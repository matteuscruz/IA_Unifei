{
 "cells": [
  {
   "cell_type": "code",
   "execution_count": 1,
   "metadata": {},
   "outputs": [],
   "source": [
    "import numpy as np"
   ]
  },
  {
   "cell_type": "code",
   "execution_count": 44,
   "metadata": {},
   "outputs": [],
   "source": [
    "# Alternativa:\n",
    "\n",
    "sim = [1, 1, 1, 1]     #Caso seja sim\n",
    "nao = [-1, -1, -1, -1] #Caso seja não\n",
    "\n",
    "# Área de espera:\n",
    "\n",
    "sim = [1, 1, 1, 1]     #Caso seja sim\n",
    "nao = [-1, -1, -1, -1] #Caso seja não\n",
    "\n",
    "# Sexta ou sábado:\n",
    "\n",
    "sim = [1, 1, 1, 1]     #Caso seja sim\n",
    "nao = [-1, -1, -1, -1] #Caso seja não\n",
    "\n",
    "# Estou com fome: \n",
    "\n",
    "sim = [1, 1, 1, 1]     #Caso seja sim\n",
    "nao = [-1, -1, -1, -1] #Caso seja não\n",
    "\n",
    "# Lotacão:\n",
    "\n",
    "nenhum = [1, -1, -1, -1] #Caso tenha nenhuma pessoa\n",
    "pouco  = [1, 1, -1, -1]  #Caso tenha poucas pessoas\n",
    "cheio  = [1, 1, 1, -1]   #Caso esteja lotado\n",
    "\n",
    "# Preço:\n",
    "\n",
    "caro =   [-1, -1, -1, 1] #Caso seja caro\n",
    "medio =  [-1, -1, 1, 1]  #Caso seja razoável\n",
    "barato = [-1, 1, 1, 1]   #Caso seja barato\n",
    "\n",
    "# Chovendo:\n",
    "\n",
    "sim = [1, 1, 1, 1]     #Caso seja sim\n",
    "nao = [-1, -1, -1, -1] #Caso seja não\n",
    "\n",
    "# Reserva: \n",
    "\n",
    "sim = [1, 1, 1, 1]     #Caso seja sim\n",
    "nao = [-1, -1, -1, -1] #Caso seja não\n",
    "\n",
    "# Tempo estimado: \n",
    "\n",
    "dez      = [1, -1, -1, 1]\n",
    "vinte    = [1, -1, 1, -1]\n",
    "trinta   = [-1, 1, -1, 1]\n",
    "sessenta = [-1, 1, 1, -1]\n",
    "\n",
    "# Esperar\n",
    "\n",
    "sim = [1, 1, 1, 1]     #Caso seja sim\n",
    "nao = [-1, -1, -1, -1] #Caso seja não"
   ]
  },
  {
   "cell_type": "code",
   "execution_count": 53,
   "metadata": {},
   "outputs": [],
   "source": [
    "#Saídas\n",
    "\n",
    "# Existe alternativa de restaurante:\n",
    "alter = [sim,sim,nao,sim,sim,nao,nao,nao,nao,sim,nao,sim]\n",
    "# Existe área de espera:\n",
    "area  = [nao,nao,sim,nao,nao,sim,sim,nao,sim,sim,nao,sim]\n",
    "# É sexta ou sábado:\n",
    "sORs  = [nao,nao,nao,sim,sim,nao,nao,nao,sim,sim,nao,sim]\n",
    "# Estou com fome:\n",
    "strv  = [sim,sim,nao,sim,nao,sim,nao,sim,nao,sim,nao,sim]\n",
    "# Lotação do espaço:\n",
    "alot  = [pouco,cheio,pouco,cheio,cheio,pouco,nenhum,pouco,cheio,cheio,nenhum,cheio]\n",
    "# Preço:\n",
    "price = [caro,barato,barato,barato,caro,medio,barato,medio,barato,caro,barato,barato]\n",
    "# Está chovendo:\n",
    "rain  = [sim,nao,nao,nao,sim,sim,nao,sim,nao,sim,sim,nao]\n",
    "# Foi feito reserva:\n",
    "reser = [sim,nao,nao,nao,sim,sim,nao,sim,nao,sim,nao,nao]\n",
    "# Tempo estimado de espera:\n",
    "time  = [dez,trinta,dez,vinte,sessenta,dez,dez,dez,sessenta,vinte,dez,trinta]\n",
    "\n",
    "#Entrada\n",
    "\n",
    "# Esperar:\n",
    "wait  = [sim,nao,sim,sim,nao,sim,nao,sim,nao,nao,nao,sim]"
   ]
  },
  {
   "cell_type": "code",
   "execution_count": 65,
   "metadata": {},
   "outputs": [],
   "source": [
    "# Crio a matriz como do exercício, porém codificada:\n",
    "car = np.c_[alter,area,sORs,strv,alot,price,rain,time]"
   ]
  },
  {
   "cell_type": "code",
   "execution_count": 66,
   "metadata": {},
   "outputs": [
    {
     "name": "stdout",
     "output_type": "stream",
     "text": [
      "[[ 1  1  1  1 -1 -1 -1 -1 -1 -1 -1 -1  1  1  1  1  1  1 -1 -1 -1 -1 -1  1\n",
      "   1  1  1  1  1 -1 -1  1]\n",
      " [ 1  1  1  1 -1 -1 -1 -1 -1 -1 -1 -1  1  1  1  1  1  1  1 -1 -1  1  1  1\n",
      "  -1 -1 -1 -1 -1  1 -1  1]\n",
      " [-1 -1 -1 -1  1  1  1  1 -1 -1 -1 -1 -1 -1 -1 -1  1  1 -1 -1 -1  1  1  1\n",
      "  -1 -1 -1 -1  1 -1 -1  1]\n",
      " [ 1  1  1  1 -1 -1 -1 -1  1  1  1  1  1  1  1  1  1  1  1 -1 -1  1  1  1\n",
      "  -1 -1 -1 -1  1 -1  1 -1]\n",
      " [ 1  1  1  1 -1 -1 -1 -1  1  1  1  1 -1 -1 -1 -1  1  1  1 -1 -1 -1 -1  1\n",
      "   1  1  1  1 -1  1  1 -1]\n",
      " [-1 -1 -1 -1  1  1  1  1 -1 -1 -1 -1  1  1  1  1  1  1 -1 -1 -1 -1  1  1\n",
      "   1  1  1  1  1 -1 -1  1]\n",
      " [-1 -1 -1 -1  1  1  1  1 -1 -1 -1 -1 -1 -1 -1 -1  1 -1 -1 -1 -1  1  1  1\n",
      "  -1 -1 -1 -1  1 -1 -1  1]\n",
      " [-1 -1 -1 -1 -1 -1 -1 -1 -1 -1 -1 -1  1  1  1  1  1  1 -1 -1 -1 -1  1  1\n",
      "   1  1  1  1  1 -1 -1  1]\n",
      " [-1 -1 -1 -1  1  1  1  1  1  1  1  1 -1 -1 -1 -1  1  1  1 -1 -1  1  1  1\n",
      "  -1 -1 -1 -1 -1  1  1 -1]\n",
      " [ 1  1  1  1  1  1  1  1  1  1  1  1  1  1  1  1  1  1  1 -1 -1 -1 -1  1\n",
      "   1  1  1  1  1 -1  1 -1]\n",
      " [-1 -1 -1 -1 -1 -1 -1 -1 -1 -1 -1 -1 -1 -1 -1 -1  1 -1 -1 -1 -1  1  1  1\n",
      "   1  1  1  1  1 -1 -1  1]\n",
      " [ 1  1  1  1  1  1  1  1  1  1  1  1  1  1  1  1  1  1  1 -1 -1  1  1  1\n",
      "  -1 -1 -1 -1 -1  1 -1  1]]\n"
     ]
    }
   ],
   "source": [
    "# Confiro se a matriz está ok:\n",
    "print(car)"
   ]
  },
  {
   "cell_type": "code",
   "execution_count": 62,
   "metadata": {},
   "outputs": [],
   "source": [
    "# Faço o produto da entrada pela matriz (transversa) das características:\n",
    "W = np.dot(car.T,wait)"
   ]
  },
  {
   "cell_type": "code",
   "execution_count": 64,
   "metadata": {},
   "outputs": [
    {
     "name": "stdout",
     "output_type": "stream",
     "text": [
      "[[ 0  0  0  0]\n",
      " [ 0  0  0  0]\n",
      " [ 0  0  0  0]\n",
      " [ 0  0  0  0]\n",
      " [ 0  0  0  0]\n",
      " [ 0  0  0  0]\n",
      " [ 0  0  0  0]\n",
      " [ 0  0  0  0]\n",
      " [-2 -2 -2 -2]\n",
      " [-2 -2 -2 -2]\n",
      " [-2 -2 -2 -2]\n",
      " [-2 -2 -2 -2]\n",
      " [ 6  6  6  6]\n",
      " [ 6  6  6  6]\n",
      " [ 6  6  6  6]\n",
      " [ 6  6  6  6]\n",
      " [ 0  0  0  0]\n",
      " [ 4  4  4  4]\n",
      " [-4 -4 -4 -4]\n",
      " [ 0  0  0  0]\n",
      " [ 0  0  0  0]\n",
      " [-2 -2 -2 -2]\n",
      " [ 2  2  2  2]\n",
      " [ 0  0  0  0]\n",
      " [ 0  0  0  0]\n",
      " [ 0  0  0  0]\n",
      " [ 0  0  0  0]\n",
      " [ 0  0  0  0]\n",
      " [ 4  4  4  4]\n",
      " [-4 -4 -4 -4]\n",
      " [-4 -4 -4 -4]\n",
      " [ 4  4  4  4]]\n"
     ]
    }
   ],
   "source": [
    "# Imprimo o resultado:\n",
    "print(W)"
   ]
  },
  {
   "cell_type": "code",
   "execution_count": null,
   "metadata": {},
   "outputs": [],
   "source": []
  }
 ],
 "metadata": {
  "kernelspec": {
   "display_name": "Python 3",
   "language": "python",
   "name": "python3"
  },
  "language_info": {
   "codemirror_mode": {
    "name": "ipython",
    "version": 3
   },
   "file_extension": ".py",
   "mimetype": "text/x-python",
   "name": "python",
   "nbconvert_exporter": "python",
   "pygments_lexer": "ipython3",
   "version": "3.8.3"
  }
 },
 "nbformat": 4,
 "nbformat_minor": 4
}
