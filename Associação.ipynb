{
 "cells": [
  {
   "cell_type": "markdown",
   "metadata": {},
   "source": [
    "Importa biblioteca de algebra linear"
   ]
  },
  {
   "cell_type": "code",
   "execution_count": 1,
   "metadata": {},
   "outputs": [],
   "source": [
    "import numpy as np"
   ]
  },
  {
   "cell_type": "markdown",
   "metadata": {},
   "source": [
    "Estabelece sequência de bits para cada personagem, característica entre outros."
   ]
  },
  {
   "cell_type": "code",
   "execution_count": 89,
   "metadata": {},
   "outputs": [],
   "source": [
    "#Personagens:\n",
    "\n",
    "D = [1, -1, 1, -1, 1]  #Drumond\n",
    "C = [1, 1, 1, -1, -1]  #Chico Buarque\n",
    "Po = [1, 1, -1, -1, 1] #Portinari\n",
    "\n",
    "#Áreas:\n",
    "\n",
    "L = [1, -1, 1, -1]  #Literatura\n",
    "M = [1, 1, -1, -1]  #Música\n",
    "Pi = [1, -1, -1, 1] #Pintura\n",
    "\n",
    "#Cidades: \n",
    "\n",
    "I = [-1, 1, -1, 1] #Itabira\n",
    "R = [1, 1, -1, 1]  #Rio de Janeiro\n",
    "B = [-1, -1, 1, 1] #Brod."
   ]
  },
  {
   "cell_type": "markdown",
   "metadata": {},
   "source": [
    "Junção dos personagens:"
   ]
  },
  {
   "cell_type": "code",
   "execution_count": 158,
   "metadata": {},
   "outputs": [],
   "source": [
    "Per = np.c_[D, C, Po]      #Personagens"
   ]
  },
  {
   "cell_type": "markdown",
   "metadata": {},
   "source": [
    "Junção das características"
   ]
  },
  {
   "cell_type": "code",
   "execution_count": 133,
   "metadata": {},
   "outputs": [],
   "source": [
    "Are = np.c_[L, M, Pi]      #Área\n",
    "Cid = np.c_[I,R,B]         #Cidade\n",
    "\n",
    "Car = np.c_[Are.T,Cid.T]   #Junção de área e cidade"
   ]
  },
  {
   "cell_type": "markdown",
   "metadata": {},
   "source": [
    "Matriz resultante da unção:"
   ]
  },
  {
   "cell_type": "code",
   "execution_count": 134,
   "metadata": {},
   "outputs": [
    {
     "name": "stdout",
     "output_type": "stream",
     "text": [
      "[[ 1 -1  1 -1 -1  1 -1  1]\n",
      " [ 1  1 -1 -1  1  1 -1  1]\n",
      " [ 1 -1 -1  1 -1 -1  1  1]]\n"
     ]
    }
   ],
   "source": [
    "print(Car)"
   ]
  },
  {
   "cell_type": "markdown",
   "metadata": {},
   "source": [
    "Criando a matriz de pesos:"
   ]
  },
  {
   "cell_type": "code",
   "execution_count": 136,
   "metadata": {},
   "outputs": [],
   "source": [
    "W = np.dot(Car.T,Per.T)"
   ]
  },
  {
   "cell_type": "code",
   "execution_count": 159,
   "metadata": {},
   "outputs": [
    {
     "name": "stdout",
     "output_type": "stream",
     "text": [
      "[[ 3  1  1 -3  1]\n",
      " [-1  1  1  1 -3]\n",
      " [-1 -3  1  1  1]\n",
      " [-1  1 -3  1  1]\n",
      " [-1  1  1  1 -3]\n",
      " [ 1 -1  3 -1 -1]\n",
      " [-1  1 -3  1  1]\n",
      " [ 3  1  1 -3  1]]\n"
     ]
    }
   ],
   "source": [
    "print(W)"
   ]
  },
  {
   "cell_type": "markdown",
   "metadata": {},
   "source": [
    "Fazendo a transformação:"
   ]
  },
  {
   "cell_type": "code",
   "execution_count": 160,
   "metadata": {},
   "outputs": [
    {
     "data": {
      "text/plain": [
       "array([[ 1,  1,  1, -1,  1],\n",
       "       [-1,  1,  1,  1, -1],\n",
       "       [-1, -1,  1,  1,  1],\n",
       "       [-1,  1, -1,  1,  1],\n",
       "       [-1,  1,  1,  1, -1],\n",
       "       [ 1, -1,  1, -1, -1],\n",
       "       [-1,  1, -1,  1,  1],\n",
       "       [ 1,  1,  1, -1,  1]])"
      ]
     },
     "execution_count": 160,
     "metadata": {},
     "output_type": "execute_result"
    }
   ],
   "source": [
    "np.sign(W)"
   ]
  }
 ],
 "metadata": {
  "kernelspec": {
   "display_name": "Python 3",
   "language": "python",
   "name": "python3"
  },
  "language_info": {
   "codemirror_mode": {
    "name": "ipython",
    "version": 3
   },
   "file_extension": ".py",
   "mimetype": "text/x-python",
   "name": "python",
   "nbconvert_exporter": "python",
   "pygments_lexer": "ipython3",
   "version": "3.8.3"
  }
 },
 "nbformat": 4,
 "nbformat_minor": 4
}
